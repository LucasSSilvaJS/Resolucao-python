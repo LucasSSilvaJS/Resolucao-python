{
 "cells": [
  {
   "cell_type": "code",
   "execution_count": 10,
   "metadata": {},
   "outputs": [
    {
     "name": "stdout",
     "output_type": "stream",
     "text": [
      "Número 1\n",
      "Número 2\n",
      "Número 3\n",
      "Número 4\n",
      "Número 5\n"
     ]
    }
   ],
   "source": [
    "def funcaoLeitura():\n",
    "    for num in [1,2,3,4,5]:\n",
    "        print('Número', num)\n",
    "\n",
    "funcaoLeitura()"
   ]
  },
  {
   "cell_type": "code",
   "execution_count": 9,
   "metadata": {},
   "outputs": [
    {
     "name": "stdout",
     "output_type": "stream",
     "text": [
      "Número 0\n",
      "Número 1\n",
      "Número 2\n",
      "Número 3\n",
      "Número 4\n"
     ]
    }
   ],
   "source": [
    "def funcaoLeitura():\n",
    "    for num in range(5):\n",
    "        print('Número', num)\n",
    "        \n",
    "funcaoLeitura()"
   ]
  },
  {
   "cell_type": "code",
   "execution_count": 12,
   "metadata": {},
   "outputs": [
    {
     "ename": "TypeError",
     "evalue": "addNum() missing 2 required positional arguments: 'n1' and 'n2'",
     "output_type": "error",
     "traceback": [
      "\u001b[1;31m---------------------------------------------------------------------------\u001b[0m",
      "\u001b[1;31mTypeError\u001b[0m                                 Traceback (most recent call last)",
      "Cell \u001b[1;32mIn[12], line 6\u001b[0m\n\u001b[0;32m      3\u001b[0m     \u001b[38;5;28mprint\u001b[39m(\u001b[38;5;124m'\u001b[39m\u001b[38;5;124mO segundo número é\u001b[39m\u001b[38;5;124m'\u001b[39m, n2)\n\u001b[0;32m      4\u001b[0m     \u001b[38;5;28mprint\u001b[39m(\u001b[38;5;124m'\u001b[39m\u001b[38;5;124mA soma é\u001b[39m\u001b[38;5;124m'\u001b[39m, n1\u001b[38;5;241m+\u001b[39mn2)\n\u001b[1;32m----> 6\u001b[0m \u001b[43maddNum\u001b[49m\u001b[43m(\u001b[49m\u001b[43m)\u001b[49m\n",
      "\u001b[1;31mTypeError\u001b[0m: addNum() missing 2 required positional arguments: 'n1' and 'n2'"
     ]
    }
   ],
   "source": [
    "def addNum(n1,n2):\n",
    "    print('O primeiro número é', n1)\n",
    "    print('O segundo número é', n2)\n",
    "    print('A soma é', n1+n2)\n",
    "\n",
    "addNum()"
   ]
  },
  {
   "cell_type": "code",
   "execution_count": 13,
   "metadata": {},
   "outputs": [
    {
     "name": "stdout",
     "output_type": "stream",
     "text": [
      "O primeiro número é 4\n",
      "O segundo número é 3\n",
      "A soma é 7\n"
     ]
    }
   ],
   "source": [
    "addNum(4,3)"
   ]
  },
  {
   "cell_type": "code",
   "execution_count": 14,
   "metadata": {},
   "outputs": [
    {
     "name": "stdout",
     "output_type": "stream",
     "text": [
      "O primeiro número é 2\n",
      "O segundo número é 6\n",
      "A soma é 8\n"
     ]
    }
   ],
   "source": [
    "addNum(2,6)"
   ]
  },
  {
   "cell_type": "code",
   "execution_count": 17,
   "metadata": {},
   "outputs": [
    {
     "name": "stdout",
     "output_type": "stream",
     "text": [
      "Variavel da funcao multiplica: 20\n"
     ]
    }
   ],
   "source": [
    "varGlobal = 10\n",
    "def multiplica(num1, num2):\n",
    "    varLocal = num1 * num2\n",
    "    print('Variavel da funcao multiplica:', varLocal)\n",
    "    # print(varLocal)\n",
    "\n",
    "multiplica(5, 4)"
   ]
  },
  {
   "cell_type": "code",
   "execution_count": 18,
   "metadata": {},
   "outputs": [
    {
     "name": "stdout",
     "output_type": "stream",
     "text": [
      "Variavel da funcao multiplica: 20\n",
      "10\n"
     ]
    }
   ],
   "source": [
    "varGlobal = 10\n",
    "def multiplica(num1, num2):\n",
    "    varGlobal = num1 * num2\n",
    "    print('Variavel da funcao multiplica:', varGlobal)\n",
    "\n",
    "multiplica(5, 4)\n",
    "print(varGlobal)"
   ]
  },
  {
   "cell_type": "code",
   "execution_count": 21,
   "metadata": {},
   "outputs": [
    {
     "name": "stdout",
     "output_type": "stream",
     "text": [
      "Parametro 0 Luquinhas\n",
      "Parametro 1 Mayara\n",
      "Parametro 2 Amanda\n",
      "Parametro 3 Bia\n"
     ]
    }
   ],
   "source": [
    "def variosParametros(*parametros):\n",
    "    for n, item in enumerate(parametros):\n",
    "        print('Parametro', n, item)\n",
    "    return\n",
    "variosParametros('Luquinhas', 'Mayara', 'Amanda', 'Bia')"
   ]
  },
  {
   "cell_type": "code",
   "execution_count": 43,
   "metadata": {},
   "outputs": [
    {
     "name": "stdout",
     "output_type": "stream",
     "text": [
      "+====================+\n",
      "| Menu de Alterações |\n",
      "| 1 - somar          |\n",
      "| 2 - subtrair       |\n",
      "| 3 - multiplicar    |\n",
      "| 4 - dividir        |\n",
      "| 0 - sair           |\n",
      "+====================+\n",
      "O resultado da soma é:  61\n",
      "+====================+\n",
      "| Menu de Alterações |\n",
      "| 1 - somar          |\n",
      "| 2 - subtrair       |\n",
      "| 3 - multiplicar    |\n",
      "| 4 - dividir        |\n",
      "| 0 - sair           |\n",
      "+====================+\n",
      "O resultado da divisão é:  25.0\n",
      "+====================+\n",
      "| Menu de Alterações |\n",
      "| 1 - somar          |\n",
      "| 2 - subtrair       |\n",
      "| 3 - multiplicar    |\n",
      "| 4 - dividir        |\n",
      "| 0 - sair           |\n",
      "+====================+\n"
     ]
    }
   ],
   "source": [
    "def soma(n1,n2):\n",
    "    return n1+n2\n",
    "\n",
    "def subtrai(n1,n2):\n",
    "    return n1-n2\n",
    "\n",
    "def multiplica(n1,n2):\n",
    "    return n1*n2\n",
    "\n",
    "def divide(n1,n2):\n",
    "    return n1/n2\n",
    "\n",
    "while True:\n",
    "    print('+====================+')\n",
    "    print('| Menu de Alterações |')\n",
    "    print('| 1 - somar          |')\n",
    "    print('| 2 - subtrair       |')\n",
    "    print('| 3 - multiplicar    |')\n",
    "    print('| 4 - dividir        |')\n",
    "    print('| 0 - sair           |')\n",
    "    print('+====================+')\n",
    "\n",
    "    op = int(input())\n",
    "    if op == 0:\n",
    "        break\n",
    "    \n",
    "    if op not in (0,1,2,3,4):\n",
    "        print('Não existe essa opção')\n",
    "        continue\n",
    "\n",
    "    n1 = int(input('Primeiro número: '))\n",
    "    n2 = int(input('Segundo número: '))\n",
    "\n",
    "    if op == 1:\n",
    "        print('O resultado da soma é: ', soma(n1,n2))\n",
    "    elif op == 2:\n",
    "        print('O resultado da subtração é: ', subtrai(n1,n2))\n",
    "    elif op == 3:\n",
    "        print('O resultado da multiplicação é: ', multiplica(n1,n2))\n",
    "    elif op == 4:\n",
    "        print('O resultado da divisão é: ', divide(n1,n2))\n",
    "    "
   ]
  }
 ],
 "metadata": {
  "kernelspec": {
   "display_name": "Python 3",
   "language": "python",
   "name": "python3"
  },
  "language_info": {
   "codemirror_mode": {
    "name": "ipython",
    "version": 3
   },
   "file_extension": ".py",
   "mimetype": "text/x-python",
   "name": "python",
   "nbconvert_exporter": "python",
   "pygments_lexer": "ipython3",
   "version": "3.9.13"
  }
 },
 "nbformat": 4,
 "nbformat_minor": 2
}
